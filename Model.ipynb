{
 "cells": [
  {
   "cell_type": "code",
   "execution_count": 1,
   "id": "195b63ed",
   "metadata": {},
   "outputs": [],
   "source": [
    "import numpy as np\n",
    "import pandas as pd"
   ]
  },
  {
   "cell_type": "code",
   "execution_count": 2,
   "id": "4c7b6f05",
   "metadata": {},
   "outputs": [],
   "source": [
    "train=pd.read_csv(r'C:\\Users\\sumanth\\Projects\\Product Length Prediction Amazon ML Hackathon\\dataset\\train.csv')"
   ]
  },
  {
   "cell_type": "code",
   "execution_count": 3,
   "id": "4bd0ae5e",
   "metadata": {},
   "outputs": [],
   "source": [
    "test=pd.read_csv(r'C:\\Users\\sumanth\\Projects\\Product Length Prediction Amazon ML Hackathon\\dataset\\test.csv')"
   ]
  },
  {
   "cell_type": "code",
   "execution_count": 76,
   "id": "e7043ae0",
   "metadata": {},
   "outputs": [
    {
     "data": {
      "text/html": [
       "<div>\n",
       "<style scoped>\n",
       "    .dataframe tbody tr th:only-of-type {\n",
       "        vertical-align: middle;\n",
       "    }\n",
       "\n",
       "    .dataframe tbody tr th {\n",
       "        vertical-align: top;\n",
       "    }\n",
       "\n",
       "    .dataframe thead th {\n",
       "        text-align: right;\n",
       "    }\n",
       "</style>\n",
       "<table border=\"1\" class=\"dataframe\">\n",
       "  <thead>\n",
       "    <tr style=\"text-align: right;\">\n",
       "      <th></th>\n",
       "      <th>PRODUCT_ID</th>\n",
       "      <th>TITLE</th>\n",
       "      <th>BULLET_POINTS</th>\n",
       "      <th>DESCRIPTION</th>\n",
       "      <th>PRODUCT_TYPE_ID</th>\n",
       "      <th>PRODUCT_LENGTH</th>\n",
       "    </tr>\n",
       "  </thead>\n",
       "  <tbody>\n",
       "    <tr>\n",
       "      <th>2</th>\n",
       "      <td>2765088</td>\n",
       "      <td>PRIKNIK Horn Red Electric Air Horn Compressor ...</td>\n",
       "      <td>[Loud Dual Tone Trumpet Horn, Compatible With ...</td>\n",
       "      <td>Specifications: Color: Red, Material: Aluminiu...</td>\n",
       "      <td>7537</td>\n",
       "      <td>748.031495</td>\n",
       "    </tr>\n",
       "    <tr>\n",
       "      <th>3</th>\n",
       "      <td>1594019</td>\n",
       "      <td>ALISHAH Women's Cotton Ankle Length Leggings C...</td>\n",
       "      <td>[Made By 95%cotton and 5% Lycra which gives yo...</td>\n",
       "      <td>AISHAH Women's Lycra Cotton Ankel Leggings. Br...</td>\n",
       "      <td>2996</td>\n",
       "      <td>787.401574</td>\n",
       "    </tr>\n",
       "    <tr>\n",
       "      <th>5</th>\n",
       "      <td>2152929</td>\n",
       "      <td>HINS Metal Bucket Shape Plant Pot for Indoor &amp;...</td>\n",
       "      <td>[Simple and elegant, great for displaying indo...</td>\n",
       "      <td>HINS Brings you the most Elegant Looking Pot w...</td>\n",
       "      <td>5725</td>\n",
       "      <td>950.000000</td>\n",
       "    </tr>\n",
       "    <tr>\n",
       "      <th>7</th>\n",
       "      <td>2026580</td>\n",
       "      <td>Delavala Self Adhesive Kitchen Backsplash Wall...</td>\n",
       "      <td>[HIGH QUALITY PVC MATERIAL: The kitchen alumin...</td>\n",
       "      <td>&lt;p&gt;&lt;strong&gt;Aluminum Foil Stickers-good kitchen...</td>\n",
       "      <td>6030</td>\n",
       "      <td>984.251967</td>\n",
       "    </tr>\n",
       "    <tr>\n",
       "      <th>9</th>\n",
       "      <td>2998633</td>\n",
       "      <td>Hexwell Essential oil for Home Fragrance Oil A...</td>\n",
       "      <td>[100% Pure And Natural Essential Oil Or Fragra...</td>\n",
       "      <td>Transform your home, workplace or hotel room i...</td>\n",
       "      <td>8201</td>\n",
       "      <td>393.700787</td>\n",
       "    </tr>\n",
       "    <tr>\n",
       "      <th>...</th>\n",
       "      <td>...</td>\n",
       "      <td>...</td>\n",
       "      <td>...</td>\n",
       "      <td>...</td>\n",
       "      <td>...</td>\n",
       "      <td>...</td>\n",
       "    </tr>\n",
       "    <tr>\n",
       "      <th>2249686</th>\n",
       "      <td>1898841</td>\n",
       "      <td>Cocomii Holographic iPhone 11 Pro Case - Holog...</td>\n",
       "      <td>[COCOMII - UNIQUE, STYLISH, QUALITY: This beau...</td>\n",
       "      <td>&lt;b&gt;COCOMII&lt;/b&gt;&lt;br&gt;&lt;br&gt;We transform amazing ide...</td>\n",
       "      <td>12556</td>\n",
       "      <td>600.000000</td>\n",
       "    </tr>\n",
       "    <tr>\n",
       "      <th>2249689</th>\n",
       "      <td>1616561</td>\n",
       "      <td>Have It Tall Men's Curved Hem Long Drop Tail T...</td>\n",
       "      <td>[Light Weight 65% Polyester/ 35% Ring Spun Cot...</td>\n",
       "      <td>This extra long Tall t-Shirt will be your favo...</td>\n",
       "      <td>2879</td>\n",
       "      <td>1200.000000</td>\n",
       "    </tr>\n",
       "    <tr>\n",
       "      <th>2249694</th>\n",
       "      <td>2766635</td>\n",
       "      <td>(3PCS) Goose Game Cute Cartoon Enamel Pins, Fu...</td>\n",
       "      <td>[❤ [Inspiration] Inspired by the Untitled Goos...</td>\n",
       "      <td>&lt;p&gt;&lt;b&gt;[Brand]: &lt;/b&gt;XVIEONR&lt;/p&gt; &lt;p&gt;&lt;br&gt;&lt;/p&gt; &lt;p&gt;...</td>\n",
       "      <td>3413</td>\n",
       "      <td>125.984252</td>\n",
       "    </tr>\n",
       "    <tr>\n",
       "      <th>2249695</th>\n",
       "      <td>1987786</td>\n",
       "      <td>Kangroo Sweep Movement Printed Wooden Wall Clo...</td>\n",
       "      <td>[Dial size: 12 inches in diameter,Big, clear r...</td>\n",
       "      <td>Wall Clocks Are Very Attractive In Looks And E...</td>\n",
       "      <td>1574</td>\n",
       "      <td>1200.000000</td>\n",
       "    </tr>\n",
       "    <tr>\n",
       "      <th>2249697</th>\n",
       "      <td>1072666</td>\n",
       "      <td>Skyjacker C7360SP Component Box For PN[C7360PK...</td>\n",
       "      <td>[Component Box For PN[C7360PK],4 in. Lift,Incl...</td>\n",
       "      <td>Skyjacker C7360SP Component Box For PN[C7360PK...</td>\n",
       "      <td>7367</td>\n",
       "      <td>2000.000000</td>\n",
       "    </tr>\n",
       "  </tbody>\n",
       "</table>\n",
       "<p>1038460 rows × 6 columns</p>\n",
       "</div>"
      ],
      "text/plain": [
       "         PRODUCT_ID                                              TITLE  \\\n",
       "2           2765088  PRIKNIK Horn Red Electric Air Horn Compressor ...   \n",
       "3           1594019  ALISHAH Women's Cotton Ankle Length Leggings C...   \n",
       "5           2152929  HINS Metal Bucket Shape Plant Pot for Indoor &...   \n",
       "7           2026580  Delavala Self Adhesive Kitchen Backsplash Wall...   \n",
       "9           2998633  Hexwell Essential oil for Home Fragrance Oil A...   \n",
       "...             ...                                                ...   \n",
       "2249686     1898841  Cocomii Holographic iPhone 11 Pro Case - Holog...   \n",
       "2249689     1616561  Have It Tall Men's Curved Hem Long Drop Tail T...   \n",
       "2249694     2766635  (3PCS) Goose Game Cute Cartoon Enamel Pins, Fu...   \n",
       "2249695     1987786  Kangroo Sweep Movement Printed Wooden Wall Clo...   \n",
       "2249697     1072666  Skyjacker C7360SP Component Box For PN[C7360PK...   \n",
       "\n",
       "                                             BULLET_POINTS  \\\n",
       "2        [Loud Dual Tone Trumpet Horn, Compatible With ...   \n",
       "3        [Made By 95%cotton and 5% Lycra which gives yo...   \n",
       "5        [Simple and elegant, great for displaying indo...   \n",
       "7        [HIGH QUALITY PVC MATERIAL: The kitchen alumin...   \n",
       "9        [100% Pure And Natural Essential Oil Or Fragra...   \n",
       "...                                                    ...   \n",
       "2249686  [COCOMII - UNIQUE, STYLISH, QUALITY: This beau...   \n",
       "2249689  [Light Weight 65% Polyester/ 35% Ring Spun Cot...   \n",
       "2249694  [❤ [Inspiration] Inspired by the Untitled Goos...   \n",
       "2249695  [Dial size: 12 inches in diameter,Big, clear r...   \n",
       "2249697  [Component Box For PN[C7360PK],4 in. Lift,Incl...   \n",
       "\n",
       "                                               DESCRIPTION  PRODUCT_TYPE_ID  \\\n",
       "2        Specifications: Color: Red, Material: Aluminiu...             7537   \n",
       "3        AISHAH Women's Lycra Cotton Ankel Leggings. Br...             2996   \n",
       "5        HINS Brings you the most Elegant Looking Pot w...             5725   \n",
       "7        <p><strong>Aluminum Foil Stickers-good kitchen...             6030   \n",
       "9        Transform your home, workplace or hotel room i...             8201   \n",
       "...                                                    ...              ...   \n",
       "2249686  <b>COCOMII</b><br><br>We transform amazing ide...            12556   \n",
       "2249689  This extra long Tall t-Shirt will be your favo...             2879   \n",
       "2249694  <p><b>[Brand]: </b>XVIEONR</p> <p><br></p> <p>...             3413   \n",
       "2249695  Wall Clocks Are Very Attractive In Looks And E...             1574   \n",
       "2249697  Skyjacker C7360SP Component Box For PN[C7360PK...             7367   \n",
       "\n",
       "         PRODUCT_LENGTH  \n",
       "2            748.031495  \n",
       "3            787.401574  \n",
       "5            950.000000  \n",
       "7            984.251967  \n",
       "9            393.700787  \n",
       "...                 ...  \n",
       "2249686      600.000000  \n",
       "2249689     1200.000000  \n",
       "2249694      125.984252  \n",
       "2249695     1200.000000  \n",
       "2249697     2000.000000  \n",
       "\n",
       "[1038460 rows x 6 columns]"
      ]
     },
     "execution_count": 76,
     "metadata": {},
     "output_type": "execute_result"
    }
   ],
   "source": [
    "tr=train\n",
    "tr.dropna()"
   ]
  },
  {
   "cell_type": "code",
   "execution_count": 77,
   "id": "d63fd8af",
   "metadata": {},
   "outputs": [],
   "source": [
    "te=test\n",
    "te['TITLE'].fillna(method='ffill', inplace=True)  # Forward fill\n",
    "te['DESCRIPTION'].fillna(method='bfill', inplace=True)  # Backward fill\n",
    "te['BULLET_POINTS'].fillna('Unknown', inplace=True)  # Fill with a specific value\n",
    "te['PRODUCT_TYPE_ID'].fillna(te['PRODUCT_TYPE_ID'].median(), inplace=True)"
   ]
  },
  {
   "cell_type": "code",
   "execution_count": 78,
   "id": "32060ba7",
   "metadata": {},
   "outputs": [],
   "source": [
    "tr['DESCRIPTION'].fillna('', inplace=True)"
   ]
  },
  {
   "cell_type": "code",
   "execution_count": 79,
   "id": "0ab34f38",
   "metadata": {},
   "outputs": [],
   "source": [
    "from sklearn.model_selection import train_test_split\n",
    "from sklearn.feature_extraction.text import CountVectorizer\n",
    "from sklearn.ensemble import RandomForestRegressor\n",
    "from sklearn.metrics import mean_absolute_percentage_error\n",
    "from sklearn.preprocessing import LabelEncoder\n",
    "from sklearn import metrics"
   ]
  },
  {
   "cell_type": "code",
   "execution_count": 80,
   "id": "32cb6ce9",
   "metadata": {},
   "outputs": [],
   "source": [
    "label_encoder = LabelEncoder()"
   ]
  },
  {
   "cell_type": "code",
   "execution_count": 81,
   "id": "af914236",
   "metadata": {},
   "outputs": [],
   "source": [
    "for col in ['TITLE', 'DESCRIPTION', 'BULLET_POINTS', 'PRODUCT_TYPE_ID']:\n",
    "    label_encoder.fit(pd.concat([tr[col], te[col]]))\n",
    "    tr[col] = label_encoder.transform(tr[col])\n",
    "    te[col] = label_encoder.transform(te[col])\n"
   ]
  },
  {
   "cell_type": "code",
   "execution_count": 82,
   "id": "46bfe145",
   "metadata": {},
   "outputs": [],
   "source": []
  },
  {
   "cell_type": "code",
   "execution_count": 83,
   "id": "0502336d",
   "metadata": {},
   "outputs": [],
   "source": []
  },
  {
   "cell_type": "code",
   "execution_count": null,
   "id": "8e23653f",
   "metadata": {},
   "outputs": [],
   "source": []
  },
  {
   "cell_type": "code",
   "execution_count": 84,
   "id": "6b4df66f",
   "metadata": {},
   "outputs": [],
   "source": [
    "X = tr.drop(['TITLE', 'DESCRIPTION', 'BULLET_POINTS', 'PRODUCT_TYPE_ID'], axis=1)\n",
    "y=tr['PRODUCT_LENGTH']\n",
    "X_test = te.drop(['TITLE', 'DESCRIPTION', 'BULLET_POINTS', 'PRODUCT_TYPE_ID'], axis=1)\n",
    "#y_test = tr['PRODUCT_LENGTH']"
   ]
  },
  {
   "cell_type": "code",
   "execution_count": 85,
   "id": "d26a5114",
   "metadata": {},
   "outputs": [],
   "source": [
    "XTrain, X_test, yTrain, y_test = train_test_split(X, y, test_size=0.2, random_state=42)\n"
   ]
  },
  {
   "cell_type": "code",
   "execution_count": 86,
   "id": "15219f4d",
   "metadata": {},
   "outputs": [
    {
     "data": {
      "text/plain": [
       "RandomForestRegressor(random_state=42)"
      ]
     },
     "execution_count": 86,
     "metadata": {},
     "output_type": "execute_result"
    }
   ],
   "source": [
    "model = RandomForestRegressor(n_estimators=100, random_state=42) \n",
    "model.fit(XTrain, yTrain)"
   ]
  },
  {
   "cell_type": "code",
   "execution_count": 87,
   "id": "b5b8c74b",
   "metadata": {},
   "outputs": [
    {
     "data": {
      "text/plain": [
       "array([492.12598424, 500.        ,   2.        , ..., 420.        ,\n",
       "       590.55118051, 399.99999924])"
      ]
     },
     "execution_count": 87,
     "metadata": {},
     "output_type": "execute_result"
    }
   ],
   "source": [
    "y_pred = model.predict(X_test)\n",
    "y_pred"
   ]
  },
  {
   "cell_type": "code",
   "execution_count": 88,
   "id": "726a5413",
   "metadata": {},
   "outputs": [
    {
     "data": {
      "text/html": [
       "<div>\n",
       "<style scoped>\n",
       "    .dataframe tbody tr th:only-of-type {\n",
       "        vertical-align: middle;\n",
       "    }\n",
       "\n",
       "    .dataframe tbody tr th {\n",
       "        vertical-align: top;\n",
       "    }\n",
       "\n",
       "    .dataframe thead th {\n",
       "        text-align: right;\n",
       "    }\n",
       "</style>\n",
       "<table border=\"1\" class=\"dataframe\">\n",
       "  <thead>\n",
       "    <tr style=\"text-align: right;\">\n",
       "      <th></th>\n",
       "      <th>PRODUCT_ID</th>\n",
       "      <th>PRODUCT_LENGTH</th>\n",
       "    </tr>\n",
       "  </thead>\n",
       "  <tbody>\n",
       "    <tr>\n",
       "      <th>0</th>\n",
       "      <td>90943</td>\n",
       "      <td>492.125984</td>\n",
       "    </tr>\n",
       "    <tr>\n",
       "      <th>1</th>\n",
       "      <td>1001689</td>\n",
       "      <td>500.000000</td>\n",
       "    </tr>\n",
       "    <tr>\n",
       "      <th>2</th>\n",
       "      <td>536614</td>\n",
       "      <td>2.000000</td>\n",
       "    </tr>\n",
       "    <tr>\n",
       "      <th>3</th>\n",
       "      <td>369746</td>\n",
       "      <td>3150.000000</td>\n",
       "    </tr>\n",
       "    <tr>\n",
       "      <th>4</th>\n",
       "      <td>175997</td>\n",
       "      <td>700.000000</td>\n",
       "    </tr>\n",
       "    <tr>\n",
       "      <th>...</th>\n",
       "      <td>...</td>\n",
       "      <td>...</td>\n",
       "    </tr>\n",
       "    <tr>\n",
       "      <th>449935</th>\n",
       "      <td>256513</td>\n",
       "      <td>590.551181</td>\n",
       "    </tr>\n",
       "    <tr>\n",
       "      <th>449936</th>\n",
       "      <td>1711718</td>\n",
       "      <td>708.661417</td>\n",
       "    </tr>\n",
       "    <tr>\n",
       "      <th>449937</th>\n",
       "      <td>2072617</td>\n",
       "      <td>420.000000</td>\n",
       "    </tr>\n",
       "    <tr>\n",
       "      <th>449938</th>\n",
       "      <td>1644801</td>\n",
       "      <td>590.551181</td>\n",
       "    </tr>\n",
       "    <tr>\n",
       "      <th>449939</th>\n",
       "      <td>1364355</td>\n",
       "      <td>399.999999</td>\n",
       "    </tr>\n",
       "  </tbody>\n",
       "</table>\n",
       "<p>449940 rows × 2 columns</p>\n",
       "</div>"
      ],
      "text/plain": [
       "        PRODUCT_ID  PRODUCT_LENGTH\n",
       "0            90943      492.125984\n",
       "1          1001689      500.000000\n",
       "2           536614        2.000000\n",
       "3           369746     3150.000000\n",
       "4           175997      700.000000\n",
       "...            ...             ...\n",
       "449935      256513      590.551181\n",
       "449936     1711718      708.661417\n",
       "449937     2072617      420.000000\n",
       "449938     1644801      590.551181\n",
       "449939     1364355      399.999999\n",
       "\n",
       "[449940 rows x 2 columns]"
      ]
     },
     "execution_count": 88,
     "metadata": {},
     "output_type": "execute_result"
    }
   ],
   "source": [
    "results_df = pd.DataFrame({'PRODUCT_ID': X_test.index, 'PRODUCT_LENGTH': y_pred})\n",
    "results_df"
   ]
  },
  {
   "cell_type": "code",
   "execution_count": 89,
   "id": "e6816856",
   "metadata": {},
   "outputs": [
    {
     "data": {
      "text/plain": [
       "90943       492.125984\n",
       "1001689     500.000000\n",
       "536614        2.000000\n",
       "369746     3150.000000\n",
       "175997      700.000000\n",
       "              ...     \n",
       "256513      590.551180\n",
       "1711718     708.661417\n",
       "2072617     420.000000\n",
       "1644801     590.551180\n",
       "1364355     400.000000\n",
       "Name: PRODUCT_LENGTH, Length: 449940, dtype: float64"
      ]
     },
     "execution_count": 89,
     "metadata": {},
     "output_type": "execute_result"
    }
   ],
   "source": [
    "y_test"
   ]
  },
  {
   "cell_type": "code",
   "execution_count": 90,
   "id": "b160fd88",
   "metadata": {},
   "outputs": [],
   "source": [
    "score = max(0, 100 * (1- metrics.mean_absolute_percentage_error(y_test, y_pred)))\n"
   ]
  },
  {
   "cell_type": "code",
   "execution_count": 91,
   "id": "e3824c43",
   "metadata": {},
   "outputs": [
    {
     "data": {
      "text/plain": [
       "99.99939936617885"
      ]
     },
     "execution_count": 91,
     "metadata": {},
     "output_type": "execute_result"
    }
   ],
   "source": [
    "score"
   ]
  },
  {
   "cell_type": "code",
   "execution_count": 92,
   "id": "9dd453fd",
   "metadata": {},
   "outputs": [
    {
     "data": {
      "text/plain": [
       "0.9063882099886411"
      ]
     },
     "execution_count": 92,
     "metadata": {},
     "output_type": "execute_result"
    }
   ],
   "source": [
    "model.score(XTrain,yTrain)"
   ]
  },
  {
   "cell_type": "code",
   "execution_count": null,
   "id": "39346f47",
   "metadata": {},
   "outputs": [],
   "source": [
    "results_df.to_csv('results.csv', index=False)"
   ]
  }
 ],
 "metadata": {
  "kernelspec": {
   "display_name": "Python 3 (ipykernel)",
   "language": "python",
   "name": "python3"
  },
  "language_info": {
   "codemirror_mode": {
    "name": "ipython",
    "version": 3
   },
   "file_extension": ".py",
   "mimetype": "text/x-python",
   "name": "python",
   "nbconvert_exporter": "python",
   "pygments_lexer": "ipython3",
   "version": "3.10.1"
  }
 },
 "nbformat": 4,
 "nbformat_minor": 5
}
